{
 "cells": [
  {
   "cell_type": "code",
   "execution_count": 1,
   "source": [
    "import sys\n",
    "\n",
    "import torch\n",
    "import pandas as pd\n",
    "import sklearn as sk"
   ],
   "outputs": [],
   "metadata": {}
  },
  {
   "cell_type": "markdown",
   "source": [
    "# NVIDIA Drivers installation"
   ],
   "metadata": {}
  },
  {
   "cell_type": "markdown",
   "source": [
    "## Check available hardware"
   ],
   "metadata": {}
  },
  {
   "cell_type": "code",
   "execution_count": 2,
   "source": [
    "!lspci -vnn | grep VGA"
   ],
   "outputs": [
    {
     "output_type": "stream",
     "name": "stdout",
     "text": [
      "01:00.0 VGA compatible controller [0300]: NVIDIA Corporation Device [10de:21c4] (rev a1) (prog-if 00 [VGA controller])\n"
     ]
    }
   ],
   "metadata": {}
  },
  {
   "cell_type": "code",
   "execution_count": 3,
   "source": [
    "!lshw -numeric -C display"
   ],
   "outputs": [
    {
     "output_type": "stream",
     "name": "stdout",
     "text": [
      "WARNING: you should run this program as super-user.\n",
      "  *-display\n",
      "       description: VGA compatible controller\n",
      "       product: NVIDIA Corporation [10DE:21C4]\n",
      "       vendor: NVIDIA Corporation [10DE]\n",
      "       physical id: 0\n",
      "       bus info: pci@0000:01:00.0\n",
      "       version: a1\n",
      "       width: 64 bits\n",
      "       clock: 33MHz\n",
      "       capabilities: vga_controller bus_master cap_list rom\n",
      "       configuration: driver=nvidia latency=0\n",
      "       resources: irq:158 memory:54000000-54ffffff memory:40000000-4fffffff memory:52000000-53ffffff ioport:3000(size=128) memory:c0000-dffff\n",
      "WARNING: output may be incomplete or inaccurate, you should run this program as super-user.\n"
     ]
    }
   ],
   "metadata": {}
  },
  {
   "cell_type": "markdown",
   "source": [
    "## Check available drivers for your hardware"
   ],
   "metadata": {}
  },
  {
   "cell_type": "code",
   "execution_count": 4,
   "source": [
    "!ubuntu-drivers devices"
   ],
   "outputs": [
    {
     "output_type": "stream",
     "name": "stdout",
     "text": [
      "== /sys/devices/pci0000:00/0000:00:01.0/0000:01:00.0 ==\n",
      "modalias : pci:v000010DEd000021C4sv00001458sd00004014bc03sc00i00\n",
      "vendor   : NVIDIA Corporation\n",
      "driver   : nvidia-driver-465 - third-party free recommended\n",
      "driver   : nvidia-driver-450 - third-party free\n",
      "driver   : nvidia-driver-460 - third-party free\n",
      "driver   : nvidia-driver-460-server - distro non-free\n",
      "driver   : nvidia-driver-455 - third-party free\n",
      "driver   : nvidia-driver-450-server - distro non-free\n",
      "driver   : xserver-xorg-video-nouveau - distro free builtin\n",
      "\n"
     ]
    }
   ],
   "metadata": {}
  },
  {
   "cell_type": "markdown",
   "source": [
    "## Actual installation of drivers"
   ],
   "metadata": {}
  },
  {
   "cell_type": "code",
   "execution_count": 5,
   "source": [
    "#sudo apt-get install nvidia-driver-465"
   ],
   "outputs": [],
   "metadata": {}
  },
  {
   "cell_type": "markdown",
   "source": [
    "## Check installed drivers"
   ],
   "metadata": {}
  },
  {
   "cell_type": "code",
   "execution_count": 6,
   "source": [
    "!nvidia-smi"
   ],
   "outputs": [
    {
     "output_type": "stream",
     "name": "stdout",
     "text": [
      "Mon Jun  7 23:19:37 2021       \n",
      "+-----------------------------------------------------------------------------+\n",
      "| NVIDIA-SMI 465.19.01    Driver Version: 465.19.01    CUDA Version: 11.3     |\n",
      "|-------------------------------+----------------------+----------------------+\n",
      "| GPU  Name        Persistence-M| Bus-Id        Disp.A | Volatile Uncorr. ECC |\n",
      "| Fan  Temp  Perf  Pwr:Usage/Cap|         Memory-Usage | GPU-Util  Compute M. |\n",
      "|                               |                      |               MIG M. |\n",
      "|===============================+======================+======================|\n",
      "|   0  NVIDIA GeForce ...  On   | 00000000:01:00.0 Off |                  N/A |\n",
      "|  0%   45C    P8     8W / 140W |    365MiB /  5941MiB |      0%      Default |\n",
      "|                               |                      |                  N/A |\n",
      "+-------------------------------+----------------------+----------------------+\n",
      "                                                                               \n",
      "+-----------------------------------------------------------------------------+\n",
      "| Processes:                                                                  |\n",
      "|  GPU   GI   CI        PID   Type   Process name                  GPU Memory |\n",
      "|        ID   ID                                                   Usage      |\n",
      "|=============================================================================|\n",
      "|    0   N/A  N/A      1015      G   /usr/lib/xorg/Xorg                 18MiB |\n",
      "|    0   N/A  N/A      1147      G   /usr/bin/gnome-shell               68MiB |\n",
      "|    0   N/A  N/A      1474      G   /usr/lib/xorg/Xorg                207MiB |\n",
      "|    0   N/A  N/A      1607      G   /usr/bin/gnome-shell               23MiB |\n",
      "|    0   N/A  N/A      2379      G   ...AAAAAAAAA= --shared-files       26MiB |\n",
      "|    0   N/A  N/A      3465      G   /usr/lib/firefox/firefox           11MiB |\n",
      "|    0   N/A  N/A      8599      G   /usr/lib/firefox/firefox            1MiB |\n",
      "+-----------------------------------------------------------------------------+\n"
     ]
    }
   ],
   "metadata": {}
  },
  {
   "cell_type": "code",
   "execution_count": 7,
   "source": [
    "!dkms status"
   ],
   "outputs": [
    {
     "output_type": "stream",
     "name": "stdout",
     "text": [
      "nvidia, 465.19.01, 5.4.0-74-generic, x86_64: installed\n"
     ]
    }
   ],
   "metadata": {}
  },
  {
   "cell_type": "markdown",
   "source": [
    "## Drivers uninstall (if needed)"
   ],
   "metadata": {}
  },
  {
   "cell_type": "markdown",
   "source": [
    "### Remove CUDA Toolkit:"
   ],
   "metadata": {}
  },
  {
   "cell_type": "code",
   "execution_count": 8,
   "source": [
    "#sudo apt-get --purge remove \"*cublas*\" \"*cufft*\" \"*curand*\" \"*cusolver*\" \"*cusparse*\" \"*npp*\" \"*nvjpeg*\" \"cuda*\" \"nsight*\""
   ],
   "outputs": [],
   "metadata": {}
  },
  {
   "cell_type": "markdown",
   "source": [
    "### Remove NVIDIA Drivers:"
   ],
   "metadata": {}
  },
  {
   "cell_type": "code",
   "execution_count": 9,
   "source": [
    "#sudo apt-get --purge remove \"*nvidia*\""
   ],
   "outputs": [],
   "metadata": {}
  },
  {
   "cell_type": "markdown",
   "source": [
    "### Clean up the uninstall:"
   ],
   "metadata": {}
  },
  {
   "cell_type": "code",
   "execution_count": 10,
   "source": [
    "#sudo apt-get autoremove"
   ],
   "outputs": [],
   "metadata": {}
  },
  {
   "cell_type": "markdown",
   "source": [
    "# Installation and setup of Miniconda"
   ],
   "metadata": {}
  },
  {
   "cell_type": "code",
   "execution_count": null,
   "source": [],
   "outputs": [],
   "metadata": {}
  },
  {
   "cell_type": "code",
   "execution_count": null,
   "source": [],
   "outputs": [],
   "metadata": {}
  },
  {
   "cell_type": "code",
   "execution_count": null,
   "source": [],
   "outputs": [],
   "metadata": {}
  },
  {
   "cell_type": "code",
   "execution_count": null,
   "source": [],
   "outputs": [],
   "metadata": {}
  },
  {
   "cell_type": "code",
   "execution_count": null,
   "source": [],
   "outputs": [],
   "metadata": {}
  },
  {
   "cell_type": "code",
   "execution_count": null,
   "source": [],
   "outputs": [],
   "metadata": {}
  },
  {
   "cell_type": "code",
   "execution_count": null,
   "source": [],
   "outputs": [],
   "metadata": {}
  },
  {
   "cell_type": "code",
   "execution_count": null,
   "source": [],
   "outputs": [],
   "metadata": {}
  },
  {
   "cell_type": "code",
   "execution_count": null,
   "source": [],
   "outputs": [],
   "metadata": {}
  },
  {
   "cell_type": "code",
   "execution_count": null,
   "source": [],
   "outputs": [],
   "metadata": {}
  },
  {
   "cell_type": "code",
   "execution_count": null,
   "source": [],
   "outputs": [],
   "metadata": {}
  },
  {
   "cell_type": "code",
   "execution_count": 11,
   "source": [
    "print(f\"PyTorch Version: {torch.__version__}\\n\")\n",
    "print(f\"Python {sys.version}\")\n",
    "print(f\"Pandas {pd.__version__}\")\n",
    "print(f\"Scikit-Learn {sk.__version__}\")\n",
    "print(\"GPU is\", \"available\" if torch.cuda.is_available() else \"NOT AVAILABLE\")"
   ],
   "outputs": [
    {
     "output_type": "stream",
     "name": "stdout",
     "text": [
      "PyTorch Version: 1.8.1\n",
      "\n",
      "Python 3.8.10 (default, May 19 2021, 18:05:58) \n",
      "[GCC 7.3.0]\n",
      "Pandas 1.2.4\n",
      "Scikit-Learn 0.24.2\n",
      "GPU is available\n"
     ]
    }
   ],
   "metadata": {}
  },
  {
   "cell_type": "code",
   "execution_count": null,
   "source": [],
   "outputs": [],
   "metadata": {}
  }
 ],
 "metadata": {
  "kernelspec": {
   "display_name": "Python 3.8 (pytorch)",
   "language": "python",
   "name": "pytorch"
  }
 },
 "nbformat": 4,
 "nbformat_minor": 5
}